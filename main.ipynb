{
 "cells": [
  {
   "cell_type": "code",
   "execution_count": null,
   "metadata": {},
   "outputs": [],
   "source": [
    "# -*- coding: utf-8 -*-\n",
    "# -*- author : Lokman Mheni - Fabio Palmisano -*-\n",
    "# -*- date : 2024-04-20 -*-\n",
    "# -*- Last revision: 2024-05-14 *-\n",
    "# -*- python version : 3.11.9 -*-\n",
    "# -*- Description: Notebook containing the project of NML 2024-*-"
   ]
  },
  {
   "cell_type": "markdown",
   "metadata": {},
   "source": [
    "# <center> EE - 452: Network Machine Learning </center>\n",
    "## <center> Ecole Polytechnique Fédérale de Lausanne </center>\n",
    "### <center>Bookreads recommenders </center>\n",
    "---"
   ]
  },
  {
   "cell_type": "code",
   "execution_count": 1,
   "metadata": {},
   "outputs": [
    {
     "name": "stderr",
     "output_type": "stream",
     "text": [
      "C:\\Users\\lokkm\\AppData\\Local\\Temp\\ipykernel_17384\\2503384051.py:2: DeprecationWarning: \n",
      "Pyarrow will become a required dependency of pandas in the next major release of pandas (pandas 3.0),\n",
      "(to allow more performant data types, such as the Arrow string type, and better interoperability with other libraries)\n",
      "but was not found to be installed on your system.\n",
      "If this would cause problems for you,\n",
      "please provide us feedback at https://github.com/pandas-dev/pandas/issues/54466\n",
      "        \n",
      "  import pandas as pd\n"
     ]
    }
   ],
   "source": [
    "import numpy as np\n",
    "import pandas as pd\n",
    "import networkx as nx\n",
    "from sklearn.model_selection import train_test_split\n",
    "from sklearn.metrics import accuracy_score\n",
    "import matplotlib.pyplot as plt\n",
    "#!pip install grakel\n",
    "from grakel import GraphKernel\n",
    "from grakel.utils import graph_from_networkx\n",
    "from tqdm import tqdm\n",
    "\n",
    "r = pd.read_csv( 'data/ratings.csv' )\n",
    "tr = pd.read_csv( 'data/to_read.csv' )\n",
    "b = pd.read_csv( 'data/books.csv' )\n",
    "\n",
    "t = pd.read_csv( 'data/tags.csv' )\n",
    "bt = pd.read_csv( 'data/book_tags.csv')"
   ]
  },
  {
   "cell_type": "code",
   "execution_count": 3,
   "metadata": {},
   "outputs": [
    {
     "name": "stderr",
     "output_type": "stream",
     "text": [
      " 65%|██████▌   | 593651/912705 [22:50:57<31:16:36,  2.83it/s]      "
     ]
    }
   ],
   "source": [
    "import networkx as nx\n",
    "from tqdm import tqdm\n",
    "\n",
    "# Create an empty graph\n",
    "G = nx.Graph()\n",
    "\n",
    "# Iterate over the 'tr' DataFrame and add edges between users who added the same book to 'to read'\n",
    "for _, row in tqdm(tr.iterrows(), total=len(tr)):\n",
    "    book_id = row['book_id']\n",
    "    user_id = row['user_id']\n",
    "    \n",
    "    # Get all users who added the same book to 'to read'\n",
    "    same_book_users = tr[tr['book_id'] == book_id]['user_id'].tolist()\n",
    "    \n",
    "    # Add edges between the current user and all other users who added the same book\n",
    "    for other_user in same_book_users:\n",
    "        if user_id != other_user:\n",
    "            G.add_edge(user_id, other_user)\n",
    "\n",
    "# Plot the graph\n",
    "nx.draw(G, with_labels=True)"
   ]
  },
  {
   "cell_type": "code",
   "execution_count": null,
   "metadata": {},
   "outputs": [],
   "source": []
  }
 ],
 "metadata": {
  "kernelspec": {
   "display_name": "Python 3",
   "language": "python",
   "name": "python3"
  },
  "language_info": {
   "codemirror_mode": {
    "name": "ipython",
    "version": 3
   },
   "file_extension": ".py",
   "mimetype": "text/x-python",
   "name": "python",
   "nbconvert_exporter": "python",
   "pygments_lexer": "ipython3",
   "version": "3.11.9"
  }
 },
 "nbformat": 4,
 "nbformat_minor": 2
}
