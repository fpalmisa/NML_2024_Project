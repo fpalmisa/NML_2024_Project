{
 "cells": [
  {
   "cell_type": "code",
   "execution_count": 1,
   "metadata": {},
   "outputs": [],
   "source": [
    "# -*- coding: utf-8 -*-\n",
    "# -*- author : Lokman Mheni - Fabio Palmisano -*-\n",
    "# -*- date : 2024-04-20 -*-\n",
    "# -*- Last revision: 2024-05-14 *-\n",
    "# -*- python version : 3.11.9 -*-\n",
    "# -*- Description: Notebook containing the project of NML 2024-*-"
   ]
  },
  {
   "cell_type": "markdown",
   "metadata": {},
   "source": [
    "# <center> EE - 452: Network Machine Learning </center>\n",
    "## <center> Ecole Polytechnique Fédérale de Lausanne </center>\n",
    "### <center>Bookreads recommenders </center>\n",
    "---"
   ]
  },
  {
   "cell_type": "code",
   "execution_count": 2,
   "metadata": {},
   "outputs": [
    {
     "name": "stderr",
     "output_type": "stream",
     "text": [
      "C:\\Users\\lokkm\\AppData\\Local\\Temp\\ipykernel_1804\\2380144034.py:2: DeprecationWarning: \n",
      "Pyarrow will become a required dependency of pandas in the next major release of pandas (pandas 3.0),\n",
      "(to allow more performant data types, such as the Arrow string type, and better interoperability with other libraries)\n",
      "but was not found to be installed on your system.\n",
      "If this would cause problems for you,\n",
      "please provide us feedback at https://github.com/pandas-dev/pandas/issues/54466\n",
      "        \n",
      "  import pandas as pd\n"
     ]
    }
   ],
   "source": [
    "import numpy as np\n",
    "import pandas as pd\n",
    "import networkx as nx\n",
    "from sklearn.model_selection import train_test_split\n",
    "from sklearn.metrics import accuracy_score\n",
    "import matplotlib.pyplot as plt\n",
    "\n",
    "from itertools import combinations\n",
    "from collections import defaultdict\n",
    "from tqdm import tqdm\n",
    "\n",
    "#!pip install grakel\n",
    "from grakel import GraphKernel\n",
    "from grakel.utils import graph_from_networkx\n",
    "from tqdm import tqdm\n",
    "\n",
    "r = pd.read_csv( 'data/ratings.csv' )\n",
    "tr = pd.read_csv( 'data/to_read.csv' )\n",
    "b = pd.read_csv( 'data/books.csv' )\n",
    "\n",
    "t = pd.read_csv( 'data/tags.csv' )\n",
    "bt = pd.read_csv( 'data/book_tags.csv')"
   ]
  },
  {
   "cell_type": "markdown",
   "metadata": {},
   "source": [
    "# Data Preprocessing"
   ]
  },
  {
   "cell_type": "code",
   "execution_count": 3,
   "metadata": {},
   "outputs": [],
   "source": [
    "# Create an empty graph\n",
    "#G = nx.Graph()\n",
    "\n",
    "# Iterate over the 'tr' DataFrame and add edges between users who added the same book to 'to read'\n",
    "#for _, row in tqdm(tr.iterrows(), total=len(tr)):\n",
    "#    book_id = row['book_id']\n",
    "#    user_id = row['user_id']\n",
    "    \n",
    "    # Get all users who added the same book to 'to read'\n",
    "#    same_book_users = tr[tr['book_id'] == book_id]['user_id'].tolist()\n",
    "    \n",
    "    # Add edges between the current user and all other users who added the same book\n",
    "#    for other_user in same_book_users:\n",
    "#        if user_id != other_user:\n",
    "#            G.add_edge(user_id, other_user)\n",
    "\n",
    "# Plot the graph\n",
    "#nx.draw(G, with_labels=True)"
   ]
  },
  {
   "cell_type": "markdown",
   "metadata": {},
   "source": [
    "# Graph Creation"
   ]
  },
  {
   "cell_type": "code",
   "execution_count": 6,
   "metadata": {},
   "outputs": [
    {
     "name": "stderr",
     "output_type": "stream",
     "text": [
      "579629it [00:34, 18639.53it/s]                        "
     ]
    }
   ],
   "source": [
    "# Quickest \n",
    "# Sample because it's taking too long\n",
    "r_sampled = r.sample(frac=0.01)\n",
    "# Create a dictionary where the keys are book_ids and the values are sets of user_ids\n",
    "book_users = defaultdict(set)\n",
    "\n",
    "# Populate the dictionary\n",
    "for _, row in tqdm(r.iterrows(), total=r_sampled.shape[0]):\n",
    "    book_users[row['book_id']].add(row['user_id'])\n",
    "\n",
    "# Create an empty graph\n",
    "graph = nx.Graph()\n",
    "\n",
    "# Iterate over each book\n",
    "for book_id, users in tqdm(book_users.items(), total=len(book_users)):\n",
    "    # Generate all pairs of users for this book\n",
    "    user_pairs = combinations(users, 2)\n",
    "    \n",
    "    # Add edges between all pairs of users\n",
    "    for user_pair in user_pairs:\n",
    "        graph.add_edge(*user_pair)\n",
    "\n",
    "# Print the number of nodes and edges in the graph\n",
    "print(len(graph.nodes()))\n",
    "print(len(graph.edges()))\n"
   ]
  },
  {
   "cell_type": "code",
   "execution_count": null,
   "metadata": {},
   "outputs": [],
   "source": [
    "import matplotlib.pyplot as plt\n",
    "\n",
    "# Set up the figure and the grid of subplots\n",
    "plt.figure(figsize=(15, 15))\n",
    "\n",
    "\n",
    "sampled_nodes = list(graph.nodes())[:10]\n",
    "\n",
    "# Iterate over the first 9 subplots\n",
    "for i in range(3):\n",
    "    # Get the first 10 * (i + 1) nodes\n",
    "    sampled_nodes = list(graph.nodes())[:10 * (i + 1)]\n",
    "    \n",
    "    # Create a subgraph with the sampled nodes\n",
    "    sampled_graph = graph.subgraph(sampled_nodes)\n",
    "    \n",
    "    # Draw the subgraph\n",
    "    plt.subplot(3, 1, i + 1)\n",
    "    nx.draw(sampled_graph, with_labels=False, node_size=10)\n",
    "\n",
    "plt.tight_layout()\n",
    "plt.show()\n"
   ]
  },
  {
   "cell_type": "code",
   "execution_count": null,
   "metadata": {},
   "outputs": [],
   "source": []
  }
 ],
 "metadata": {
  "kernelspec": {
   "display_name": "Python 3",
   "language": "python",
   "name": "python3"
  },
  "language_info": {
   "codemirror_mode": {
    "name": "ipython",
    "version": 3
   },
   "file_extension": ".py",
   "mimetype": "text/x-python",
   "name": "python",
   "nbconvert_exporter": "python",
   "pygments_lexer": "ipython3",
   "version": "3.11.9"
  }
 },
 "nbformat": 4,
 "nbformat_minor": 2
}
